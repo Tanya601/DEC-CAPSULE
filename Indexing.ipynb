{
 "cells": [
  {
   "cell_type": "code",
   "execution_count": 10,
   "metadata": {},
   "outputs": [
    {
     "name": "stdout",
     "output_type": "stream",
     "text": [
      "maps\n",
      "calculator\n"
     ]
    }
   ],
   "source": [
    "apps = [\"whatsapp\",\"telegram\",\"instragram\",\"facebook\",\"chrome\",\"gallary\",\"maps\",\"linkedln\",\"playstore\",\"clock\",\n",
    "       \"calender\",\"calculator\",\"messages\",\"camera\",\"music\",\"youtube\",\"gmail\"]\n",
    "print(apps[6])\n",
    "print(apps[-6])"
   ]
  },
  {
   "cell_type": "code",
   "execution_count": 11,
   "metadata": {},
   "outputs": [
    {
     "name": "stdout",
     "output_type": "stream",
     "text": [
      "['instragram', 'facebook', 'chrome', 'gallary', 'maps', 'linkedln', 'playstore']\n"
     ]
    }
   ],
   "source": [
    "print(apps[2:9])"
   ]
  },
  {
   "cell_type": "code",
   "execution_count": 14,
   "metadata": {},
   "outputs": [
    {
     "name": "stdout",
     "output_type": "stream",
     "text": [
      "['instragram', 'chrome', 'maps', 'playstore', 'calender', 'messages', 'music']\n"
     ]
    }
   ],
   "source": [
    "print(apps[2:15:2])"
   ]
  },
  {
   "cell_type": "code",
   "execution_count": 15,
   "metadata": {},
   "outputs": [
    {
     "name": "stdout",
     "output_type": "stream",
     "text": [
      "['whatsapp', 'telegram', 'instragram', 'facebook', 'chrome', 'gallary', 'maps', 'linkedln', 'playstore', 'clock', 'calender', 'calculator', 'messages', 'camera', 'music', 'youtube', 'gmail']\n"
     ]
    }
   ],
   "source": [
    "print(apps[:])"
   ]
  },
  {
   "cell_type": "code",
   "execution_count": 16,
   "metadata": {},
   "outputs": [
    {
     "name": "stdout",
     "output_type": "stream",
     "text": [
      "['gmail']\n"
     ]
    }
   ],
   "source": [
    "print(apps[-1:])"
   ]
  },
  {
   "cell_type": "code",
   "execution_count": 18,
   "metadata": {},
   "outputs": [
    {
     "name": "stdout",
     "output_type": "stream",
     "text": [
      "['gallary', 'maps', 'linkedln', 'playstore', 'clock', 'calender', 'calculator', 'messages', 'camera', 'music', 'youtube', 'gmail']\n"
     ]
    }
   ],
   "source": [
    "print(apps[5:])"
   ]
  },
  {
   "cell_type": "code",
   "execution_count": 19,
   "metadata": {},
   "outputs": [
    {
     "name": "stdout",
     "output_type": "stream",
     "text": [
      "['o', 'g', 'r']\n",
      "['a', 'm', 'i', 'z']\n",
      "['p', 'r', 'o', 'g', 'r', 'a', 'm', 'i', 'z']\n",
      "['r', 'g', 'a', 'i']\n",
      "['z']\n"
     ]
    }
   ],
   "source": [
    "my_list= ['p','r','o','g','r','a','m','i','z']\n",
    "print(my_list[2:5])\n",
    "print(my_list[5:])\n",
    "print(my_list[:])\n",
    "print(my_list[1:9:2])\n",
    "print(my_list[-1:])"
   ]
  }
 ],
 "metadata": {
  "kernelspec": {
   "display_name": "Python 3",
   "language": "python",
   "name": "python3"
  },
  "language_info": {
   "codemirror_mode": {
    "name": "ipython",
    "version": 3
   },
   "file_extension": ".py",
   "mimetype": "text/x-python",
   "name": "python",
   "nbconvert_exporter": "python",
   "pygments_lexer": "ipython3",
   "version": "3.12.1"
  }
 },
 "nbformat": 4,
 "nbformat_minor": 2
}
