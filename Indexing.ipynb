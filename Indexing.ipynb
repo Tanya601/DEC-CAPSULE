{
 "cells": [
  {
   "cell_type": "code",
   "execution_count": 5,
   "metadata": {},
   "outputs": [
    {
     "name": "stdout",
     "output_type": "stream",
     "text": [
      "maps\n",
      "calculator\n"
     ]
    }
   ],
   "source": [
    "apps = [\"whatsapp\",\"telegram\",\"instragram\",\"facebook\",\"chrome\",\"gallary\",\"maps\",\"linkedln\",\"playstore\",\"clock\",\n",
    "              \"calender\",\"calculator\",\"messages\",\"camera\",\"music\",\"youtube\",\"gmail\"]\n",
    "print(apps[6])\n",
    "print(apps[-6])"
   ]
  },
  {
   "cell_type": "code",
   "execution_count": 8,
   "metadata": {},
   "outputs": [
    {
     "name": "stdout",
     "output_type": "stream",
     "text": [
      "['instragram', 'facebook', 'chrome', 'gallary', 'maps', 'linkedln', 'playstore']\n"
     ]
    }
   ],
   "source": [
    "print(apps[2:9])"
   ]
  },
  {
   "cell_type": "code",
   "execution_count": null,
   "metadata": {},
   "outputs": [],
   "source": []
  }
 ],
 "metadata": {
  "kernelspec": {
   "display_name": "Python 3",
   "language": "python",
   "name": "python3"
  },
  "language_info": {
   "codemirror_mode": {
    "name": "ipython",
    "version": 3
   },
   "file_extension": ".py",
   "mimetype": "text/x-python",
   "name": "python",
   "nbconvert_exporter": "python",
   "pygments_lexer": "ipython3",
   "version": "3.12.1"
  }
 },
 "nbformat": 4,
 "nbformat_minor": 2
}
