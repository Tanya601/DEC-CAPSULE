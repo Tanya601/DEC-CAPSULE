{
 "cells": [
  {
   "cell_type": "code",
   "execution_count": 2,
   "metadata": {},
   "outputs": [
    {
     "name": "stdout",
     "output_type": "stream",
     "text": [
      "2023 is not a leap year\n"
     ]
    }
   ],
   "source": [
    "year = int(input(\"Enter a year: \"))\n",
    "while True:\n",
    "    if(year%4==0 and year%100!=0) or year%400==0:\n",
    "        print(year, \"is a leap year\")\n",
    "        break\n",
    "    else:\n",
    "        print(year, \"is not a leap year\")\n",
    "        break"
   ]
  },
  {
   "cell_type": "code",
   "execution_count": 3,
   "metadata": {},
   "outputs": [
    {
     "name": "stdout",
     "output_type": "stream",
     "text": [
      "2016 is a leap year\n",
      "2017 is not a leap year\n",
      "1900 is not a leap year\n",
      "2000 is a leap year\n",
      "2004 is a leap year\n",
      "2018 is not a leap year\n",
      "2020 is a leap year\n"
     ]
    }
   ],
   "source": [
    "years = [2016,2017,1900,2000,2004,2018,2020]\n",
    "index = 0\n",
    "while index < len(years):\n",
    "    year = years[index]\n",
    "    if (year%4==0 and year%100!=0) or year%400==0:\n",
    "        print(year, \"is a leap year\")\n",
    "    else:\n",
    "        print(year,\"is not a leap year\")\n",
    "    index +=1"
   ]
  }
 ],
 "metadata": {
  "kernelspec": {
   "display_name": "Python 3",
   "language": "python",
   "name": "python3"
  },
  "language_info": {
   "codemirror_mode": {
    "name": "ipython",
    "version": 3
   },
   "file_extension": ".py",
   "mimetype": "text/x-python",
   "name": "python",
   "nbconvert_exporter": "python",
   "pygments_lexer": "ipython3",
   "version": "3.12.1"
  }
 },
 "nbformat": 4,
 "nbformat_minor": 2
}
